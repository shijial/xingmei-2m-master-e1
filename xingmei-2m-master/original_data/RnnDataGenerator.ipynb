{
 "cells": [
  {
   "cell_type": "markdown",
   "metadata": {
    "deletable": true,
    "editable": true
   },
   "source": [
    "# 星美数据生成 Ranking 数据"
   ]
  },
  {
   "cell_type": "code",
   "execution_count": 1,
   "metadata": {
    "collapsed": false,
    "deletable": true,
    "editable": true
   },
   "outputs": [],
   "source": [
    "import pandas as pd\n",
    "import numpy as np\n",
    "import matplotlib.pyplot as plt\n",
    "import math\n",
    "from datetime import datetime"
   ]
  },
  {
   "cell_type": "markdown",
   "metadata": {
    "deletable": true,
    "editable": true
   },
   "source": [
    "## 1. 从订单数据中过滤出电影 ID 与用户 ID 集合"
   ]
  },
  {
   "cell_type": "code",
   "execution_count": 2,
   "metadata": {
    "collapsed": true,
    "deletable": true,
    "editable": true
   },
   "outputs": [],
   "source": [
    "user_set = set()\n",
    "movie_set = set()"
   ]
  },
  {
   "cell_type": "markdown",
   "metadata": {
    "deletable": true,
    "editable": true
   },
   "source": [
    "读取订单数据，从中提取用户 ID 与电影 ID。"
   ]
  },
  {
   "cell_type": "code",
   "execution_count": 3,
   "metadata": {
    "collapsed": false,
    "deletable": true,
    "editable": true
   },
   "outputs": [],
   "source": [
    "df_order = pd.read_csv(\"订单.csv.gz\", encoding = \"gb18030\", dtype = str)\n",
    "order_list = df_order.loc[:, [u'会员ID', u'电影ID']].values.tolist()\n",
    "for user_id, movie_id in order_list:\n",
    "    if type(user_id) != float or not math.isnan(user_id):\n",
    "        user_set.add(int(user_id))\n",
    "    if type(movie_id) != float or not math.isnan(movie_id):\n",
    "        movie_set.add(int(movie_id))"
   ]
  },
  {
   "cell_type": "markdown",
   "metadata": {
    "deletable": true,
    "editable": true
   },
   "source": [
    "用户集合"
   ]
  },
  {
   "cell_type": "code",
   "execution_count": 4,
   "metadata": {
    "collapsed": false,
    "deletable": true,
    "editable": true
   },
   "outputs": [
    {
     "name": "stdout",
     "output_type": "stream",
     "text": [
      "304940 [5767171, 5767173, 6291462, 6204076, 6291469]\n"
     ]
    }
   ],
   "source": [
    "print len(user_set), list(user_set)[:5]"
   ]
  },
  {
   "cell_type": "markdown",
   "metadata": {
    "deletable": true,
    "editable": true
   },
   "source": [
    "电影集合"
   ]
  },
  {
   "cell_type": "code",
   "execution_count": 5,
   "metadata": {
    "collapsed": false,
    "deletable": true,
    "editable": true
   },
   "outputs": [
    {
     "name": "stdout",
     "output_type": "stream",
     "text": [
      "587 [237568, 229379, 163844, 233477, 237574]\n"
     ]
    }
   ],
   "source": [
    "print len(movie_set), list(movie_set)[:5]"
   ]
  },
  {
   "cell_type": "markdown",
   "metadata": {
    "deletable": true,
    "editable": true
   },
   "source": [
    "## 2. 生成场次数据\n",
    "\n",
    "数据来源：石佳琳生成的猫眼排片数据对应表  \n",
    "{begin_date：时间，“title”：{xingmei_id：[猫眼排片数目，电影名称，maoyan_id],week:周数目}\n",
    "\n",
    "在场次数据中出现，但是没有在订单数据中出现的，计入电影 ID 集合。"
   ]
  },
  {
   "cell_type": "code",
   "execution_count": 6,
   "metadata": {
    "collapsed": true,
    "deletable": true,
    "editable": true
   },
   "outputs": [],
   "source": [
    "weekly_screens = []\n",
    "movie_weekly_screens = {}"
   ]
  },
  {
   "cell_type": "code",
   "execution_count": 7,
   "metadata": {
    "collapsed": false,
    "deletable": true,
    "editable": true
   },
   "outputs": [],
   "source": [
    "import json\n",
    "filename = \"xingmeiorder_final.json\"\n",
    "with open(filename) as F:\n",
    "    for line in F:\n",
    "        screens = {}\n",
    "        obj = json.loads(line)\n",
    "        begin_date = \"20\" + obj[\"begin_date\"]\n",
    "        titles = obj[\"title\"]\n",
    "        year, month, day = map(int, begin_date.split(\"-\"))\n",
    "        begin_timestamp = (datetime(year, month, day) - datetime(1970, 1, 1)).total_seconds()\n",
    "        end_timestamp = begin_timestamp + 7 * 24 * 60 * 60\n",
    "        screens[\"begin\"] = begin_timestamp\n",
    "        screens[\"end\"] = end_timestamp\n",
    "        d = {}\n",
    "        for xingmei_id in titles:\n",
    "            movie_id = int(xingmei_id)\n",
    "            movie_set.add(movie_id)\n",
    "            screen_count = titles[xingmei_id][0]\n",
    "            d[movie_id] = screen_count\n",
    "            if movie_id not in movie_weekly_screens:\n",
    "                movie_weekly_screens[movie_id] = []\n",
    "            movie_weekly_screens[movie_id].append(screen_count)\n",
    "        screens[\"screens\"] = d\n",
    "        weekly_screens.append(screens)"
   ]
  },
  {
   "cell_type": "markdown",
   "metadata": {
    "deletable": true,
    "editable": true
   },
   "source": [
    "电影的第一周票房"
   ]
  },
  {
   "cell_type": "code",
   "execution_count": 8,
   "metadata": {
    "collapsed": false,
    "deletable": true,
    "editable": true
   },
   "outputs": [],
   "source": [
    "first_week_screens = {}\n",
    "for m in movie_weekly_screens:\n",
    "    for c in movie_weekly_screens[m]:\n",
    "        if m in first_week_screens:\n",
    "            if c > 10 * first_week_screens[m]:\n",
    "                first_week_screens[m] = c\n",
    "        else:\n",
    "            first_week_screens[m] = c"
   ]
  },
  {
   "cell_type": "code",
   "execution_count": 9,
   "metadata": {
    "collapsed": false,
    "deletable": true,
    "editable": true
   },
   "outputs": [
    {
     "name": "stdout",
     "output_type": "stream",
     "text": [
      "26\n",
      "618021\n"
     ]
    },
    {
     "data": {
      "image/png": "[encoded data removed]",
      "text/plain": [
       "<matplotlib.figure.Figure at 0x7f8dd0955350>"
      ]
     },
     "metadata": {},
     "output_type": "display_data"
    }
   ],
   "source": [
    "print min(first_week_screens.values())\n",
    "print max(first_week_screens.values())\n",
    "log2 = lambda x: math.log(x, 2)\n",
    "plt.hist(map(log2, first_week_screens.values()), bins = 100)\n",
    "plt.show()"
   ]
  },
  {
   "cell_type": "code",
   "execution_count": 10,
   "metadata": {
    "collapsed": true,
    "deletable": true,
    "editable": true
   },
   "outputs": [],
   "source": [
    "def get_screens(movie_id):\n",
    "    if movie_id not in first_week_screens:\n",
    "        return \"screens:<2000\"\n",
    "    else:\n",
    "        sc = first_week_screens[movie_id] / 1000\n",
    "        log2 = lambda x: int(math.log(x, 2))\n",
    "        if sc <= 0 or log2(sc) < 1:\n",
    "            return \"screens:<%d000\" % (2**1)\n",
    "        elif log2(sc) < 2:\n",
    "            return \"screens:%d000-%d000\" % (2**1, 2**2)\n",
    "        elif log2(sc) < 3:\n",
    "            return \"screens:%d000-%d000\" % (2**2, 2**3)\n",
    "        elif log2(sc) < 4:\n",
    "            return \"screens:%d000-%d000\" % (2**3, 2**4)\n",
    "        elif log2(sc) < 5:\n",
    "            return \"screens:%d000-%d000\" % (2**4, 2**5)\n",
    "        elif log2(sc) < 6:\n",
    "            return \"screens:%d000-%d000\" % (2**5, 2**6)\n",
    "        elif log2(sc) < 7:\n",
    "            return \"screens:%d000-%d000\" % (2**6, 2**7)\n",
    "        elif log2(sc) < 8:\n",
    "            return \"screens:%d000-%d000\" % (2**7, 2**8)\n",
    "        else:\n",
    "            return \"screens:>%d000\" % (2**8)"
   ]
  },
  {
   "cell_type": "markdown",
   "metadata": {
    "deletable": true,
    "editable": true
   },
   "source": [
    "debug"
   ]
  },
  {
   "cell_type": "code",
   "execution_count": 11,
   "metadata": {
    "collapsed": false,
    "deletable": true,
    "editable": true
   },
   "outputs": [
    {
     "name": "stdout",
     "output_type": "stream",
     "text": [
      "screens:128000-256000 228961 ---- 228961 443000 289000 181000 73999 \n",
      "screens:64000-128000 97488 ---- 97488 122423 32551 211 \n",
      "screens:16000-32000 23735 ---- 23735 13578 2747 \n",
      "screens:64000-128000 110142 ---- 1 110142 152000 20127 5820 \n",
      "screens:16000-32000 23717 ---- 23717 17283 \n",
      "screens:<2000 1951 ---- 1951 \n",
      "screens:64000-128000 74601 ---- 2 34 74601 109535 27293 5562 1664 \n",
      "screens:128000-256000 173077 ---- 173077 265000 95667 23725 10492 \n",
      "screens:128000-256000 137483 ---- 137483 282000 81077 19968 5580 \n",
      "screens:16000-32000 20351 ---- 20351 35693 14355 2473 755 \n",
      "screens:2000-4000 2841 ---- 2841 1689 4790 1471 \n",
      "screens:<2000 151 ---- 151 55 13 \n",
      "screens:32000-64000 60167 ---- 60167 50234 1970 \n",
      "screens:<2000 160 ---- 160 \n",
      "screens:32000-64000 40514 ---- 18 40514 \n",
      "screens:128000-256000 165403 ---- 165403 163314 42974 5824 1490 \n",
      "screens:4000-8000 7136 ---- 7136 6768 593 \n",
      "screens:16000-32000 19042 ---- 19042 1453 \n",
      "screens:4000-8000 6686 ---- 6686 1174 \n",
      "screens:128000-256000 245119 ---- 245119 341000 129000 49158 6375 \n",
      "screens:16000-32000 19265 ---- 19265 12855 \n",
      "screens:16000-32000 18596 ---- 18596 14558 1218 \n",
      "screens:2000-4000 3865 ---- 3865 \n",
      "screens:32000-64000 34012 ---- 34012 50852 22508 2439 \n",
      "screens:16000-32000 22431 ---- 22431 21703 1907 315 210 \n",
      "screens:8000-16000 10662 ---- 10662 9180 \n",
      "screens:<2000 739 ---- 739 723 \n",
      "screens:<2000 992 ---- 992 \n",
      "screens:32000-64000 57070 ---- 57070 54238 12059 2267 548 \n",
      "screens:64000-128000 101948 ---- 101948 117770 20079 3232 \n",
      "screens:>256000 282158 ---- 32 282158 410000 267000 146839 49559 13857 4994 2103 919 \n",
      "screens:<2000 981 ---- 981 93 \n",
      "screens:64000-128000 73112 ---- 73112 86643 12916 2665 1326 \n",
      "screens:2000-4000 3196 ---- 3196 \n",
      "screens:128000-256000 147858 ---- 7 147858 240000 68049 40282 14696 \n",
      "screens:32000-64000 37104 ---- 55 37104 52469 7432 2541 987 \n",
      "screens:<2000 1337 ---- 1337 1064 \n",
      "screens:<2000 1941 ---- 1941 435 \n",
      "screens:4000-8000 4495 ---- 4495 3791 496 \n",
      "screens:64000-128000 93475 ---- 93475 131839 28190 9808 1961 \n",
      "screens:<2000 324 ---- 324 315 \n",
      "screens:8000-16000 12105 ---- 12105 762 \n",
      "screens:8000-16000 12905 ---- 12905 14097 1900 \n",
      "screens:4000-8000 5970 ---- 5970 4908 8902 12237 4670 \n",
      "screens:2000-4000 2717 ---- 2717 334 \n",
      "screens:64000-128000 86010 ---- 86010 74214 36891 9958 3482 \n",
      "screens:16000-32000 28073 ---- 28073 23199 1339 \n",
      "screens:2000-4000 2527 ---- 2527 \n",
      "screens:4000-8000 7512 ---- 7512 11747 1181 \n",
      "screens:16000-32000 25282 ---- 25282 39933 2993 990 \n",
      "screens:4000-8000 5722 ---- 5722 6135 1599 291 197 \n",
      "screens:8000-16000 11566 ---- 11566 13947 \n",
      "screens:128000-256000 167399 ---- 167399 202082 22161 2587 864 \n",
      "screens:4000-8000 5146 ---- 5146 2899 10288 17001 5041 1727 705 73 \n",
      "screens:<2000 1373 ---- 1373 \n",
      "screens:64000-128000 92504 ---- 92504 24318 333 \n",
      "screens:32000-64000 37237 ---- 12 37237 12287 \n",
      "screens:8000-16000 13525 ---- 13525 12533 2202 \n",
      "screens:64000-128000 73435 ---- 71 73435 \n",
      "screens:8000-16000 13081 ---- 13081 5559 1174 668 \n",
      "screens:8000-16000 12723 ---- 12723 10037 314 109 \n",
      "screens:128000-256000 223541 ---- 1 223541 349000 148000 58102 9693 \n",
      "screens:8000-16000 10587 ---- 10587 6656 \n",
      "screens:64000-128000 82054 ---- 3751 45 20138 82054 60440 44432 8208 \n",
      "screens:64000-128000 115647 ---- 7 115647 159339 65256 39731 25676 11342 1292 \n",
      "screens:16000-32000 18790 ---- 30 18790 6720 1034 \n",
      "screens:64000-128000 86087 ---- 86087 84465 18069 8607 2683 \n",
      "screens:16000-32000 19407 ---- 19407 41286 19977 96 \n",
      "screens:64000-128000 84207 ---- 84207 38131 21706 13869 604 \n",
      "screens:128000-256000 183903 ---- 5 183903 321000 123745 44565 12684 1316 \n",
      "screens:8000-16000 11204 ---- 11204 13767 2679 1216 \n",
      "screens:>256000 256396 ---- 1 256396 173000 91014 21417 9724 2543 \n",
      "screens:8000-16000 13890 ---- 13890 10019 2055 258 \n",
      "screens:64000-128000 113439 ---- 113439 131778 14185 997 \n",
      "screens:4000-8000 5977 ---- 5977 6065 \n",
      "screens:<2000 1686 ---- 1686 \n",
      "screens:<2000 1509 ---- 1509 2334 78 \n",
      "screens:>256000 398000 ---- 10 2002 398000 215000 151000 90076 11999 3558 \n",
      "screens:128000-256000 198772 ---- 2 198772 287000 108089 23909 2666 \n",
      "screens:4000-8000 4385 ---- 4385 5365 531 109 \n",
      "screens:<2000 666 ---- 666 \n",
      "screens:32000-64000 57121 ---- 57121 42795 1811 \n",
      "screens:8000-16000 8573 ---- 8573 40298 7853 2191 \n",
      "screens:64000-128000 91684 ---- 91684 90092 8675 2248 1131 \n",
      "screens:8000-16000 15109 ---- 15109 8246 \n",
      "screens:32000-64000 63112 ---- 8 63112 65797 2289 390 \n",
      "screens:8000-16000 15863 ---- 15863 23541 \n",
      "screens:>256000 321059 ---- 42 321059 360000 157319 5094 2402 \n",
      "screens:128000-256000 164859 ---- 164859 203120 37863 6359 1081 \n",
      "screens:2000-4000 3310 ---- 3310 2029 \n",
      "screens:64000-128000 127198 ---- 127198 129347 43772 17604 1534 \n",
      "screens:8000-16000 14749 ---- 14749 7191 682 \n",
      "screens:32000-64000 44085 ---- 44085 27770 \n",
      "screens:64000-128000 67275 ---- 9 67275 53800 \n",
      "screens:128000-256000 201040 ---- 201040 249000 117900 2343 1462 \n",
      "screens:64000-128000 93205 ---- 93205 90611 36417 3815 \n",
      "screens:<2000 759 ---- 759 670 \n",
      "screens:32000-64000 60134 ---- 60134 73112 3391 930 432 \n",
      "screens:64000-128000 112053 ---- 17 112053 227000 109695 36672 5497 \n",
      "screens:2000-4000 2773 ---- 2773 4214 1386 623 \n",
      "screens:64000-128000 108175 ---- 108175 85397 7162 829 \n",
      "screens:2000-4000 3145 ---- 3145 1426 \n",
      "screens:2000-4000 2683 ---- 2683 \n",
      "screens:32000-64000 33010 ---- 7 33010 22356 1141 \n",
      "screens:128000-256000 155451 ---- 1328 155451 227000 95624 30237 8027 \n",
      "screens:128000-256000 148120 ---- 28 148120 199000 109664 6688 4421 695 \n",
      "screens:32000-64000 57555 ---- 57555 9895 4620 880 \n",
      "screens:32000-64000 36041 ---- 36041 38992 71 \n",
      "screens:64000-128000 64074 ---- 64074 50510 2620 \n",
      "screens:128000-256000 236057 ---- 236057 425000 145814 49068 20342 \n",
      "screens:>256000 259521 ---- 4 259521 384000 165912 46042 9876 334 \n",
      "screens:<2000 573 ---- 573 \n",
      "screens:<2000 1151 ---- 1151 \n",
      "screens:4000-8000 5927 ---- 5927 8731 \n",
      "screens:8000-16000 12370 ---- 12370 14133 666 \n",
      "screens:<2000 807 ---- 807 \n",
      "screens:<2000 1022 ---- 1022 \n",
      "screens:<2000 386 ---- 386 403 \n",
      "screens:16000-32000 25338 ---- 25338 19284 3938 \n",
      "screens:32000-64000 52209 ---- 52209 21627 16444 12329 404 \n",
      "screens:128000-256000 134915 ---- 511 134915 14503 634 368 127 \n",
      "screens:32000-64000 61177 ---- 61177 66804 3872 636 \n",
      "screens:64000-128000 113123 ---- 113123 119048 30830 8455 2431 \n",
      "screens:4000-8000 5001 ---- 5001 8448 \n",
      "screens:16000-32000 20456 ---- 20456 19284 2530 \n",
      "screens:128000-256000 137330 ---- 137330 129393 35981 15335 1056 \n",
      "screens:8000-16000 12956 ---- 12956 17038 \n",
      "screens:>256000 280080 ---- 1 24127 280080 515000 89578 91494 75958 40742 8213 5467 3217 893 534 404 337 \n",
      "screens:32000-64000 55096 ---- 55096 92328 32251 7290 1347 \n",
      "screens:16000-32000 16682 ---- 16682 10073 \n",
      "screens:16000-32000 26841 ---- 26841 29311 3887 1738 \n",
      "screens:32000-64000 51029 ---- 51029 51426 8790 2031 1128 \n",
      "screens:128000-256000 176613 ---- 176613 257000 88485 37351 5125 \n",
      "screens:32000-64000 50092 ---- 50092 53462 11862 1708 622 \n",
      "screens:4000-8000 5955 ---- 5955 7347 7 7 \n",
      "screens:64000-128000 97403 ---- 15 97403 128913 24827 4905 \n",
      "screens:128000-256000 220104 ---- 7 220104 370000 182000 104072 48868 20515 8047 \n",
      "screens:64000-128000 107412 ---- 107412 135313 30468 4965 \n",
      "screens:64000-128000 106596 ---- 12 106596 116481 20233 3590 852 \n",
      "screens:64000-128000 84276 ---- 84276 72147 1989 \n",
      "screens:128000-256000 239928 ---- 11 239928 328000 99797 25002 12616 \n",
      "screens:128000-256000 182391 ---- 7 182391 244000 143995 74599 7168 \n",
      "screens:>256000 300785 ---- 2 300785 535000 327000 171000 87402 \n",
      "screens:8000-16000 12752 ---- 12752 20057 5049 1944 \n",
      "screens:128000-256000 190801 ---- 18 190801 241000 46584 5791 \n",
      "screens:32000-64000 41783 ---- 41783 16489 \n",
      "screens:4000-8000 5100 ---- 5100 2828 \n",
      "screens:64000-128000 76166 ---- 76166 85309 15151 \n",
      "screens:<2000 1292 ---- 1292 \n",
      "screens:2000-4000 3607 ---- 3607 \n",
      "screens:16000-32000 19466 ---- 19466 26627 2992 \n",
      "screens:8000-16000 14683 ---- 14683 15794 1516 \n",
      "screens:8000-16000 8042 ---- 8042 6198 996 \n",
      "screens:4000-8000 5796 ---- 5796 6246 829 \n",
      "screens:64000-128000 99034 ---- 99034 70811 4020 1030 276 \n",
      "screens:4000-8000 6057 ---- 6057 6410 1235 \n",
      "screens:16000-32000 24988 ---- 24988 29605 \n",
      "screens:64000-128000 115428 ---- 1 115428 131410 14785 1146 \n",
      "screens:16000-32000 31726 ---- 130 31726 22616 324 \n",
      "screens:4000-8000 4728 ---- 4728 3938 \n",
      "screens:16000-32000 25103 ---- 27 25103 29727 3389 933 631 \n",
      "screens:8000-16000 9066 ---- 9066 13487 2266 754 539 \n",
      "screens:64000-128000 65277 ---- 65277 25907 3306 \n",
      "screens:>256000 583000 ---- 24 1705 583000 516000 448000 319000 143000 67466 22012 9448 4569 2256 340 \n",
      "screens:2000-4000 2014 ---- 2014 3180 \n",
      "screens:2000-4000 2859 ---- 2859 3453 \n",
      "screens:32000-64000 32028 ---- 32028 31882 \n",
      "screens:64000-128000 90519 ---- 90519 82943 395 \n",
      "screens:8000-16000 11857 ---- 11857 14864 \n",
      "screens:128000-256000 231581 ---- 1 231581 229400 17847 \n",
      "screens:<2000 705 ---- 705 \n",
      "screens:16000-32000 29858 ---- 29858 8189 \n",
      "screens:16000-32000 18797 ---- 18797 14251 56 \n",
      "screens:4000-8000 6451 ---- 6451 4819 \n",
      "screens:64000-128000 98028 ---- 98028 76477 2216 1809 641 \n",
      "screens:32000-64000 49101 ---- 49101 44625 7397 1045 350 \n",
      "screens:2000-4000 2847 ---- 2847 82 \n",
      "screens:>256000 360000 ---- 5 1194 360000 228000 184000 117736 19783 4985 1445 755 235 \n",
      "screens:4000-8000 5573 ---- 5573 3506 \n",
      "screens:16000-32000 24463 ---- 24463 22841 2480 \n",
      "screens:128000-256000 247976 ---- 9 247976 167000 60980 5014 868 \n",
      "screens:128000-256000 139576 ---- 139576 177662 27039 3620 1122 \n",
      "screens:<2000 106 ---- 106 \n",
      "screens:16000-32000 17583 ---- 17583 24825 5095 1499 595 \n",
      "screens:8000-16000 8259 ---- 8259 7826 \n",
      "screens:8000-16000 11952 ---- 11952 1668 533 \n",
      "screens:16000-32000 27368 ---- 27368 23455 572 \n",
      "screens:<2000 466 ---- 466 \n",
      "screens:8000-16000 10434 ---- 10434 13556 7245 \n",
      "screens:64000-128000 91421 ---- 91421 73250 8132 1658 \n",
      "screens:2000-4000 2288 ---- 2288 \n",
      "screens:16000-32000 16812 ---- 16812 17152 3425 927 271 \n",
      "screens:2000-4000 3375 ---- 3375 5362 3036 216 68 \n",
      "screens:32000-64000 44178 ---- 44178 37688 2268 \n",
      "screens:2000-4000 2550 ---- 2550 \n",
      "screens:64000-128000 76436 ---- 76436 167000 95498 40040 521 \n",
      "screens:32000-64000 54180 ---- 54180 55388 3094 977 \n",
      "screens:2000-4000 3082 ---- 3082 \n",
      "screens:128000-256000 201319 ---- 201319 370000 261000 104739 46491 1357 1284 545 \n",
      "screens:<2000 1040 ---- 44 248 190 1040 1011 \n",
      "screens:16000-32000 21233 ---- 21233 23774 1636 \n",
      "screens:<2000 35 ---- 35 \n",
      "screens:16000-32000 18496 ---- 18496 17025 \n",
      "screens:16000-32000 17157 ---- 6 17157 17506 1549 449 \n",
      "screens:2000-4000 2058 ---- 2058 \n",
      "screens:64000-128000 92182 ---- 92182 121606 30294 3179 659 \n",
      "screens:8000-16000 9757 ---- 9757 14300 6155 2525 310 267 \n",
      "screens:64000-128000 74329 ---- 74329 82247 13554 2439 131 \n",
      "screens:128000-256000 188942 ---- 12 188942 358000 167522 332 \n",
      "screens:8000-16000 11147 ---- 11147 21026 6011 \n",
      "screens:16000-32000 18494 ---- 18494 49735 56876 \n",
      "screens:128000-256000 149053 ---- 149053 154289 21937 4270 27 \n",
      "screens:8000-16000 11904 ---- 11904 18101 8384 3821 \n",
      "screens:64000-128000 85173 ---- 21 85173 63237 4521 \n",
      "screens:128000-256000 168264 ---- 8 168264 154000 70217 1791 1089 \n",
      "screens:16000-32000 16221 ---- 16221 20189 11188 \n",
      "screens:32000-64000 34399 ---- 338 34399 24749 35 \n",
      "screens:64000-128000 108228 ---- 108228 135319 32301 4644 1133 \n",
      "screens:2000-4000 3489 ---- 3489 3637 1171 258 108 \n",
      "screens:128000-256000 136368 ---- 451 2855 136368 180544 41565 4676 \n",
      "screens:16000-32000 20287 ---- 20287 9480 \n",
      "screens:64000-128000 106512 ---- 106512 70511 6316 1926 \n",
      "screens:16000-32000 31559 ---- 31559 16452 \n",
      "screens:64000-128000 84283 ---- 84283 89209 3069 781 \n",
      "screens:>256000 618021 ---- 25 24 618021 602000 303000 58345 11610 \n",
      "screens:8000-16000 14328 ---- 14328 18674 5897 1292 \n",
      "screens:16000-32000 24475 ---- 24475 20802 855 \n",
      "screens:128000-256000 188056 ---- 2793 188056 334000 260000 \n",
      "screens:2000-4000 2436 ---- 2436 \n",
      "screens:128000-256000 140526 ---- 140526 212000 97218 8165 1862 \n",
      "screens:128000-256000 151948 ---- 34 79 151948 152886 44072 12862 \n",
      "screens:32000-64000 63072 ---- 63072 105682 33693 2619 1349 \n",
      "screens:128000-256000 203809 ---- 203809 364000 160103 34201 5939 \n",
      "screens:128000-256000 154189 ---- 17 154189 307000 143675 67043 17164 \n",
      "screens:8000-16000 11240 ---- 11240 15859 2200 \n",
      "screens:64000-128000 85125 ---- 85125 100689 1002 679 641 \n",
      "screens:4000-8000 4495 ---- 4495 3871 374 \n",
      "screens:128000-256000 192000 ---- 51 192000 19739 \n",
      "screens:128000-256000 233099 ---- 5 233099 409000 202256 64429 18529 3638 1 \n",
      "screens:2000-4000 2497 ---- 2497 3460 \n",
      "screens:>256000 350036 ---- 3 350036 526000 305000 113137 75 \n",
      "screens:<2000 84 ---- 84 \n",
      "screens:16000-32000 20266 ---- 20266 22847 951 407 \n",
      "screens:<2000 508 ---- 508 \n",
      "screens:128000-256000 149396 ---- 149396 211000 66929 14727 4228 403 \n",
      "screens:>256000 368000 ---- 368000 199000 125414 61246 \n",
      "screens:64000-128000 124223 ---- 124223 206000 81425 15266 5998 \n",
      "screens:16000-32000 20251 ---- 20251 11197 \n",
      "screens:<2000 1286 ---- 1286 1336 \n",
      "screens:64000-128000 93084 ---- 8082 33019 93084 51906 24165 6558 4606 2968 \n",
      "screens:32000-64000 56073 ---- 56073 36979 4335 \n",
      "screens:64000-128000 121685 ---- 121685 173000 64182 7138 1718 \n",
      "screens:16000-32000 28657 ---- 28657 17086 230 \n",
      "screens:>256000 294009 ---- 294009 407000 189000 70394 50592 18441 6077 970 \n",
      "screens:8000-16000 12929 ---- 12929 11654 982 154 \n",
      "screens:64000-128000 90505 ---- 24 90505 81641 \n",
      "screens:8000-16000 15637 ---- 15637 12267 804 \n",
      "screens:32000-64000 44106 ---- 44106 34587 2618 513 \n",
      "screens:64000-128000 85116 ---- 85116 170000 114009 61117 4974 5732 4030 \n",
      "screens:<2000 26 ---- 26 \n",
      "screens:2000-4000 2273 ---- 2273 \n",
      "screens:32000-64000 52204 ---- 52204 58105 9024 1843 678 \n",
      "screens:16000-32000 24920 ---- 24920 5242 \n",
      "screens:32000-64000 59039 ---- 59039 37124 \n",
      "screens:32000-64000 53324 ---- 40 53324 6910 928 \n",
      "screens:64000-128000 109141 ---- 109141 148000 29671 1815 \n",
      "screens:32000-64000 60006 ---- 60006 64752 12539 3345 540 \n",
      "screens:8000-16000 8248 ---- 8248 11093 3444 \n",
      "screens:128000-256000 177945 ---- 3 1213 177945 140215 9565 1702 999 \n",
      "screens:4000-8000 7340 ---- 7340 7651 \n",
      "screens:8000-16000 12505 ---- 12505 17625 2489 1294 \n",
      "screens:64000-128000 69177 ---- 69177 34101 3831 1162 \n",
      "screens:<2000 982 ---- 982 \n",
      "screens:8000-16000 12569 ---- 12569 15677 2505 374 \n",
      "screens:64000-128000 108347 ---- 108347 355000 401000 290000 189000 151000 86049 \n",
      "screens:>256000 432301 ---- 4 432301 295000 96062 18613 \n",
      "screens:16000-32000 24716 ---- 24716 6663 \n",
      "screens:64000-128000 73805 ---- 73805 17298 1344 \n",
      "screens:32000-64000 45137 ---- 41 45137 42159 1480 \n",
      "screens:32000-64000 41096 ---- 41096 38156 2378 \n",
      "screens:16000-32000 23126 ---- 23126 36837 4381 1462 \n",
      "screens:8000-16000 13059 ---- 13059 25246 7805 1239 649 \n",
      "screens:16000-32000 17021 ---- 17021 10699 780 \n",
      "screens:>256000 317162 ---- 13 317162 426000 210642 54789 12995 2112 \n",
      "screens:128000-256000 208053 ---- 50 208053 339000 154000 96995 42348 6055 1192 531 \n",
      "screens:2000-4000 2727 ---- 2727 1285 33 12832 2192 1029 \n",
      "screens:128000-256000 144052 ---- 144052 309000 175630 42470 7961 342 \n",
      "screens:8000-16000 15684 ---- 15684 48012 17224 15327 9164 2429 \n",
      "screens:4000-8000 7125 ---- 7125 10365 \n",
      "screens:64000-128000 89216 ---- 9 89216 108546 9145 990 \n",
      "screens:>256000 275365 ---- 275365 336000 239000 138325 13508 \n",
      "screens:4000-8000 7784 ---- 7784 \n",
      "screens:64000-128000 77875 ---- 17 77875 40850 17042 4973 \n",
      "screens:64000-128000 71106 ---- 18 71106 48392 12065 2195 767 \n",
      "screens:128000-256000 195195 ---- 195195 315000 130579 29656 4277 \n",
      "screens:128000-256000 169256 ---- 5 169256 83849 6227 748 224 \n",
      "screens:64000-128000 65538 ---- 123 65538 46764 3156 506 \n",
      "screens:128000-256000 202709 ---- 1 202709 353000 130658 26920 7278 \n",
      "screens:2000-4000 3798 ---- 3798 3576 179 124 \n",
      "screens:4000-8000 6397 ---- 37 6397 42096 19499 4530 979 \n",
      "screens:64000-128000 84153 ---- 84153 109589 12693 9664 4177 \n",
      "screens:16000-32000 21980 ---- 21980 36773 7565 \n",
      "screens:64000-128000 75254 ---- 75254 56589 3265 \n",
      "screens:4000-8000 4933 ---- 4933 5974 \n",
      "screens:64000-128000 126139 ---- 126139 151094 12965 2243 825 \n",
      "screens:128000-256000 135833 ---- 135833 79621 62602 32089 683 238 71 \n",
      "screens:64000-128000 93228 ---- 93228 48088 7600 \n",
      "screens:16000-32000 31044 ---- 31044 35102 4046 \n",
      "screens:32000-64000 32675 ---- 32675 2872 \n",
      "screens:2000-4000 3807 ---- 3807 4467 \n",
      "screens:32000-64000 39054 ---- 573 39054 37219 4799 \n",
      "screens:<2000 1122 ---- 1122 \n",
      "screens:16000-32000 18050 ---- 18050 14381 911 191 217 \n",
      "screens:4000-8000 4488 ---- 4488 614 \n",
      "screens:2000-4000 3493 ---- 3493 3249 \n",
      "screens:4000-8000 7422 ---- 7422 11577 1528 \n",
      "screens:4000-8000 7263 ---- 7263 13103 9591 4681 \n",
      "screens:128000-256000 249130 ---- 9 249130 323000 76524 40 \n",
      "screens:8000-16000 11522 ---- 11522 2758 826 501 \n",
      "screens:8000-16000 11128 ---- 11128 20163 2543 1078 \n",
      "screens:128000-256000 181024 ---- 7 181024 179668 22801 1965 \n",
      "screens:>256000 262969 ---- 6 262969 470000 286000 152209 26002 \n",
      "screens:<2000 88 ---- 88 \n",
      "screens:128000-256000 137450 ---- 9 137450 196856 47190 11352 3498 \n",
      "screens:<2000 447 ---- 447 14 \n",
      "screens:128000-256000 180577 ---- 180577 301000 93187 13277 3413 \n",
      "screens:16000-32000 20436 ---- 20436 19728 \n",
      "screens:64000-128000 103959 ---- 103959 55982 \n",
      "screens:32000-64000 54556 ---- 54556 9205 \n",
      "screens:8000-16000 11855 ---- 11855 16504 2835 \n",
      "screens:128000-256000 220787 ---- 220787 353000 124000 75879 29790 \n",
      "screens:>256000 402395 ---- 8 402395 315000 139000 55228 11791 \n",
      "screens:128000-256000 132063 ---- 6 132063 416000 411000 299000 179000 92048 35644 13484 6955 2223 \n",
      "screens:64000-128000 74587 ---- 74587 113302 18040 \n",
      "screens:32000-64000 44124 ---- 44124 39197 1794 432 \n",
      "screens:4000-8000 6986 ---- 6986 1392 \n",
      "screens:128000-256000 164128 ---- 164128 299000 134927 19844 3457 \n",
      "screens:8000-16000 13441 ---- 13441 16860 1833 \n",
      "screens:16000-32000 16591 ---- 12 16591 12254 2438 247 135 \n"
     ]
    }
   ],
   "source": [
    "for m in movie_weekly_screens:\n",
    "    print get_screens(m), first_week_screens[m], \"----\",\n",
    "    for c in movie_weekly_screens[m]:\n",
    "        print c,\n",
    "    print \"\""
   ]
  },
  {
   "cell_type": "code",
   "execution_count": 12,
   "metadata": {
    "collapsed": false,
    "deletable": true,
    "editable": true
   },
   "outputs": [
    {
     "name": "stdout",
     "output_type": "stream",
     "text": [
      "defaultdict(<type 'int'>, {'screens:>256000': 18, 'screens:64000-128000': 60, 'screens:32000-64000': 37, 'screens:2000-4000': 26, 'screens:8000-16000': 40, 'screens:<2000': 33, 'screens:128000-256000': 52, 'screens:16000-32000': 45, 'screens:4000-8000': 28})\n"
     ]
    }
   ],
   "source": [
    "from collections import defaultdict\n",
    "screen_count_dict = defaultdict(int)\n",
    "for m in movie_weekly_screens:\n",
    "    screen_count_dict[get_screens(m)] += 1\n",
    "print screen_count_dict"
   ]
  },
  {
   "cell_type": "markdown",
   "metadata": {
    "deletable": true,
    "editable": true
   },
   "source": [
    "## 3. 生成电影的 tag 列表\n",
    "\n",
    "星美 ID ： tag 列表"
   ]
  },
  {
   "cell_type": "code",
   "execution_count": 13,
   "metadata": {
    "collapsed": true,
    "deletable": true,
    "editable": true
   },
   "outputs": [],
   "source": [
    "movie_tags = {}"
   ]
  },
  {
   "cell_type": "code",
   "execution_count": 14,
   "metadata": {
    "collapsed": false,
    "deletable": true,
    "editable": true
   },
   "outputs": [],
   "source": [
    "df_movie = pd.read_csv(\"影片.csv.gz\", encoding = \"gb18030\", dtype = str)\n",
    "L = df_movie.loc[:, [u'影片ID', u'影片名称', u'影片英文名', u'发行国家', u'影片类型', u'年份', u'导演', u'导演评分', u'主演演员', u'发行公司']].values.tolist()\n",
    "for item_id, chi_name, eng_name, country, genre, year, director, director_rating, actor, company in L:\n",
    "    l = item_id, chi_name, eng_name, country, genre, year, director, director_rating, actor, company\n",
    "    if int(item_id) in movie_set:\n",
    "        l = [u'null' if type(item) == float and math.isnan(item) else item for item in l]\n",
    "        item_id, chi_name, eng_name, country, genre, year, director, director_rating, actor, company = l\n",
    "        get_items = lambda s: [item.strip() for item in s.strip(\"/\").split(\"/\")]\n",
    "        tag_list = []\n",
    "        for item in get_items(country):\n",
    "            tag_list.append(u\"country:\" + item)\n",
    "        for item in get_items(genre):\n",
    "            tag_list.append(u\"genre:\" + item)\n",
    "        for item in get_items(year):\n",
    "            tag_list.append(u\"year:\" + item)\n",
    "        for item in get_items(director):\n",
    "            tag_list.append(u\"director:\" + item)\n",
    "        for item in get_items(director_rating):\n",
    "            if item != u'null':\n",
    "                tag_list.append(u\"director_rating:\" + str(int(float(item))))\n",
    "            else:\n",
    "                tag_list.append(u\"director_rating:\" + str(item))\n",
    "        for item in get_items(actor):\n",
    "            tag_list.append(u\"actor:\" + item)\n",
    "        for item in get_items(company):\n",
    "            tag_list.append(u\"company:\" + item)\n",
    "        tag_list.append(get_screens(int(item_id)))\n",
    "        movie_tags[int(item_id)] = tag_list"
   ]
  },
  {
   "cell_type": "code",
   "execution_count": 15,
   "metadata": {
    "collapsed": false,
    "deletable": true,
    "editable": true
   },
   "outputs": [
    {
     "name": "stdout",
     "output_type": "stream",
     "text": [
      "587\n",
      "[(237568, [u'country:\\u4e2d\\u56fd', u'genre:\\u7eaa\\u5f55\\u7247', u'year:2016', u'director:\\u53f6\\u541b Jun Ye', u'director:\\u8427\\u5bd2 Han Xiao', u'director_rating:0', u'actor:\\u738b\\u6d25 Jin Wang', u'actor:\\u4e93\\u660a\\u6960 Hao-nan Qi', u'actor:\\u5c48\\u5cf0 Feng Qu', u'company:null', 'screens:<2000']), (229379, [u'country:\\u4e2d\\u56fd', u'genre:\\u60ca\\u609a', u'genre:\\u5267\\u60c5', u'genre:\\u6050\\u6016', u'year:2016', u'director:\\u674e\\u7ea2\\u5efa Hong Jian Li', u'director_rating:null', u'actor:\\u7f57\\u7fd4 Xiang Luo', u'actor:\\u9648\\u7f8e\\u884c Meixing Chen', u'actor:\\u7fdf\\u5b50\\u964c Zak', u'actor:\\u738b\\u826f Liang Wang', u'company:\\u5317\\u4eac\\u57fa\\u70b9\\u5f71\\u89c6\\u6587\\u5316\\u4f20\\u5a92\\u6709\\u9650\\u516c\\u53f8', 'screens:16000-32000']), (163844, [u'country:\\u4e2d\\u56fd', u'genre:\\u60ca\\u609a', u'genre:\\u60ac\\u7591', u'year:2014', u'director:\\u738b\\u677e', u'director:Song Wang', u'director_rating:7', u'actor:\\u90d1\\u660a Hao Zheng', u'actor:\\u961a\\u6e05\\u5b50 Qingzi Kan', u'company:\\u4e0a\\u6d77\\u946b\\u5cb3\\u5f71\\u89c6\\u4f20\\u64ad\\u6709\\u9650\\u516c\\u53f8', u'company:\\u6df1\\u5733\\u5e02\\u5927\\u65b9\\u5f71\\u9038\\u79d1\\u6280\\u6709\\u9650\\u516c\\u53f8', u'company:\\u5317\\u4eac\\u4e7e\\u5764\\u661f\\u5149\\u6587\\u5316\\u4f20\\u5a92\\u6709\\u9650\\u516c\\u53f8', u'company:\\u706b\\u5c71\\u77f3\\uff08\\u5317\\u4eac\\uff09\\u5f71\\u89c6\\u6587\\u5316\\u6709\\u9650\\u8d23\\u4efb\\u516c\\u53f8', u'company:\\u5e7f\\u5dde\\u661f\\u4f2f\\u4e50\\u5f71\\u89c6\\u4f20\\u5a92\\u6709\\u9650\\u516c\\u53f8', 'screens:<2000']), (233477, [u'country:\\u4e2d\\u56fd', u'genre:\\u5267\\u60c5', u'genre:\\u559c\\u5267', u'year:2016', u'director:\\u738b\\u8389 Li Wang', u'director_rating:null', u'actor:\\u9a6c\\u4e3d Li Ma', u'actor:\\u5468\\u97e6\\u5f64 Weitong Zhou', u'actor:\\u66f9\\u4e91\\u91d1 YunJin Cao', u'company:null', 'screens:16000-32000']), (237574, [u'country:\\u4e2d\\u56fd', u'genre:\\u5267\\u60c5', u'genre:\\u559c\\u5267', u'genre:\\u72af\\u7f6a', u'year:2016', u'director:\\u68ee\\u5c9b', u'director:Sen Dao', u'director_rating:0', u'actor:\\u9648\\u5c0f\\u6625 Jordan Chan', u'actor:\\u9093\\u5bb6\\u4f73 Jiajia Deng', u'actor:\\u6c6a\\u4e1c\\u57ce Dongcheng Wang', u'actor:\\u674e\\u51e1\\u79c0 Beom-su Lee', u'company:null', 'screens:8000-16000'])]\n"
     ]
    }
   ],
   "source": [
    "print len(movie_tags)\n",
    "print movie_tags.items()[:5]"
   ]
  },
  {
   "cell_type": "markdown",
   "metadata": {
    "deletable": true,
    "editable": true
   },
   "source": [
    "## 4. 生成 tag 词典"
   ]
  },
  {
   "cell_type": "code",
   "execution_count": 16,
   "metadata": {
    "collapsed": true,
    "deletable": true,
    "editable": true
   },
   "outputs": [],
   "source": [
    "def set_to_dict(item_set, reserved):\n",
    "    item_dict = {}\n",
    "    item_list = sorted(list(item_set))\n",
    "    for i in xrange(len(item_list)):\n",
    "        item_dict[item_list[i]] = i + 1\n",
    "    item_dict[reserved] = 0\n",
    "    return item_dict"
   ]
  },
  {
   "cell_type": "code",
   "execution_count": 17,
   "metadata": {
    "collapsed": true,
    "deletable": true,
    "editable": true
   },
   "outputs": [],
   "source": [
    "tag_set = set()\n",
    "for tags in movie_tags.values():\n",
    "    for tag in tags:\n",
    "        tag_set.add(tag)\n",
    "tag_dict = set_to_dict(tag_set, \"tag:reserved\")"
   ]
  },
  {
   "cell_type": "code",
   "execution_count": 18,
   "metadata": {
    "collapsed": false,
    "deletable": true,
    "editable": true
   },
   "outputs": [
    {
     "name": "stdout",
     "output_type": "stream",
     "text": [
      "3987\n"
     ]
    }
   ],
   "source": [
    "print len(tag_dict)"
   ]
  },
  {
   "cell_type": "markdown",
   "metadata": {
    "deletable": true,
    "editable": true
   },
   "source": [
    "## 5. 生成星美电影 ID 词典和用户 ID 词典"
   ]
  },
  {
   "cell_type": "code",
   "execution_count": 19,
   "metadata": {
    "collapsed": true,
    "deletable": true,
    "editable": true
   },
   "outputs": [],
   "source": [
    "user_dict = set_to_dict(user_set, 0)\n",
    "movie_dict = set_to_dict(movie_set, 0)"
   ]
  },
  {
   "cell_type": "code",
   "execution_count": 20,
   "metadata": {
    "collapsed": false,
    "deletable": true,
    "editable": true
   },
   "outputs": [
    {
     "name": "stdout",
     "output_type": "stream",
     "text": [
      "304941 588\n"
     ]
    }
   ],
   "source": [
    "print len(user_dict), len(movie_dict)"
   ]
  },
  {
   "cell_type": "markdown",
   "metadata": {
    "deletable": true,
    "editable": true
   },
   "source": [
    "## 6. 生成电影 feature 词典"
   ]
  },
  {
   "cell_type": "code",
   "execution_count": 21,
   "metadata": {
    "collapsed": true,
    "deletable": true,
    "editable": true
   },
   "outputs": [],
   "source": [
    "movie_tags_feature = {}"
   ]
  },
  {
   "cell_type": "code",
   "execution_count": 22,
   "metadata": {
    "collapsed": true,
    "deletable": true,
    "editable": true
   },
   "outputs": [],
   "source": [
    "for movie_id in movie_tags:\n",
    "    converted_movie_id = movie_dict.get(movie_id, 0)\n",
    "    l = []\n",
    "    for tag in movie_tags[movie_id]:\n",
    "        converted_tag_id = tag_dict.get(tag, 0)\n",
    "        l.append(converted_tag_id)\n",
    "    movie_tags_feature[converted_movie_id] = sorted(set(l))"
   ]
  },
  {
   "cell_type": "code",
   "execution_count": 23,
   "metadata": {
    "collapsed": false,
    "deletable": true,
    "editable": true
   },
   "outputs": [
    {
     "name": "stdout",
     "output_type": "stream",
     "text": [
      "587 [1520, 1871, 1897, 1939, 1952, 2070, 2077, 2112, 2312, 2316, 2452, 2936, 3236, 3419, 3899, 3910, 3911, 3917, 3935, 3948]\n"
     ]
    }
   ],
   "source": [
    "print len(movie_tags_feature), movie_tags_feature.values()[0]"
   ]
  },
  {
   "cell_type": "markdown",
   "metadata": {
    "deletable": true,
    "editable": true
   },
   "source": [
    "## 7. 生成 RNN 与 MF 格式数据"
   ]
  },
  {
   "cell_type": "markdown",
   "metadata": {
    "deletable": true,
    "editable": true
   },
   "source": [
    "RNN 格式： {user: [(item1, time1), (item2, time2), ...]}\n",
    "MF 格式： [(user, item, time), ...]"
   ]
  },
  {
   "cell_type": "code",
   "execution_count": 24,
   "metadata": {
    "collapsed": true,
    "deletable": true,
    "editable": true
   },
   "outputs": [],
   "source": [
    "Jan = (datetime(2016, 1, 4) - datetime(1970, 1, 1)).total_seconds()\n",
    "def get_week_num(timestamp):\n",
    "    diff = int((timestamp - Jan) / (86400 * 7))\n",
    "    if diff < 0:\n",
    "        diff = 0\n",
    "    return diff"
   ]
  },
  {
   "cell_type": "code",
   "execution_count": 25,
   "metadata": {
    "collapsed": true,
    "deletable": true,
    "editable": true
   },
   "outputs": [],
   "source": [
    "rnn_data = {}"
   ]
  },
  {
   "cell_type": "code",
   "execution_count": 26,
   "metadata": {
    "collapsed": true,
    "deletable": true,
    "editable": true
   },
   "outputs": [],
   "source": [
    "def parse_time(datetime_str):\n",
    "    datetime_str = datetime_str.strip()\n",
    "    if ' ' in datetime_str:\n",
    "        date_str, time_str = datetime_str.split()\n",
    "    else:\n",
    "        date_str, time_str = datetime_str, \"00:00:00\"\n",
    "    year, month, day = map(int, date_str.split(\"/\"))\n",
    "    hour, minute, second = map(int, time_str.split(\":\"))\n",
    "    return datetime(year, month, day)"
   ]
  },
  {
   "cell_type": "code",
   "execution_count": 27,
   "metadata": {
    "collapsed": false,
    "deletable": true,
    "editable": true
   },
   "outputs": [],
   "source": [
    "L = df_order.loc[:, [u'会员ID', u'电影ID', u'观影时间']].values.tolist()\n",
    "for user_id, movie_id, watch_time in L:\n",
    "    if type(user_id) == float and math.isnan(user_id):\n",
    "        continue\n",
    "    if type(movie_id) == float and math.isnan(movie_id):\n",
    "        continue\n",
    "    user_id, movie_id = int(user_id), int(movie_id)\n",
    "    dt = parse_time(watch_time)\n",
    "    timestamp = (dt - datetime(1970, 1, 1)).total_seconds()\n",
    "    uid = user_dict.get(user_id, 0)\n",
    "    mid = movie_dict.get(movie_id, 0)\n",
    "    if uid not in rnn_data:\n",
    "        rnn_data[uid] = set()\n",
    "    rnn_data[uid].add((get_week_num(timestamp), mid))"
   ]
  },
  {
   "cell_type": "markdown",
   "metadata": {
    "deletable": true,
    "editable": true
   },
   "source": [
    "为用户行为排序，并按照 week 分组"
   ]
  },
  {
   "cell_type": "code",
   "execution_count": 28,
   "metadata": {
    "collapsed": false,
    "deletable": true,
    "editable": true
   },
   "outputs": [
    {
     "name": "stdout",
     "output_type": "stream",
     "text": [
      "13\n"
     ]
    }
   ],
   "source": [
    "max_num_per_week = 0\n",
    "new_rnn_data = {}\n",
    "for uid in rnn_data:\n",
    "    rnn_data[uid] = list(rnn_data[uid])\n",
    "    rnn_data[uid].sort()\n",
    "    week_data = {}\n",
    "    for w, m in rnn_data[uid]:\n",
    "        if w not in week_data:\n",
    "            week_data[w] = []\n",
    "        week_data[w].append(m)\n",
    "    week_data = dict([(w,list(set(l))) for w, l in week_data.items()])\n",
    "    max_num_per_week = max(max_num_per_week, max([len(l) for w, l in week_data.items()]))\n",
    "    new_rnn_data[uid] = week_data\n",
    "print max_num_per_week"
   ]
  },
  {
   "cell_type": "markdown",
   "metadata": {
    "deletable": true,
    "editable": true
   },
   "source": [
    "## 8. 生成 ID 转换的电影排片列表"
   ]
  },
  {
   "cell_type": "code",
   "execution_count": 29,
   "metadata": {
    "collapsed": true,
    "deletable": true,
    "editable": true
   },
   "outputs": [],
   "source": [
    "screens_data = []"
   ]
  },
  {
   "cell_type": "code",
   "execution_count": 30,
   "metadata": {
    "collapsed": false,
    "deletable": true,
    "editable": true
   },
   "outputs": [],
   "source": [
    "for obj in weekly_screens:\n",
    "    begin = int(obj[\"begin\"])\n",
    "    end = int(obj[\"end\"])\n",
    "    screens = obj[\"screens\"]\n",
    "    sc_list = []\n",
    "    for movie_id, screen_count in screens.items():\n",
    "        converted_movie_id = movie_dict.get(movie_id, 0)\n",
    "        sc_list.append((converted_movie_id, screen_count))\n",
    "    screens_data.append((begin, end, sc_list))"
   ]
  },
  {
   "cell_type": "code",
   "execution_count": 31,
   "metadata": {
    "collapsed": false,
    "deletable": true,
    "editable": true
   },
   "outputs": [
    {
     "name": "stdout",
     "output_type": "stream",
     "text": [
      "53 (1452470400, 1453075200, [(415, 4488), (102, 57555), (340, 11952), (176, 1), (317, 11522), (348, 74329), (219, 69177), (433, 85116), (13, 151), (294, 84207), (283, 76436), (440, 13081), (429, 1022), (339, 6451), (196, 52209), (422, 107412), (326, 135833), (266, 2717), (191, 368000)])\n"
     ]
    }
   ],
   "source": [
    "print len(screens_data), screens_data[0]"
   ]
  },
  {
   "cell_type": "markdown",
   "metadata": {
    "deletable": true,
    "editable": true
   },
   "source": [
    "## 10. 保存文件"
   ]
  },
  {
   "cell_type": "code",
   "execution_count": 32,
   "metadata": {
    "collapsed": true,
    "deletable": true,
    "editable": true
   },
   "outputs": [],
   "source": [
    "directory = \"../data/xingmei-2m\""
   ]
  },
  {
   "cell_type": "code",
   "execution_count": 33,
   "metadata": {
    "collapsed": true,
    "deletable": true,
    "editable": true
   },
   "outputs": [],
   "source": [
    "def save_dict_to_file(item_dict, filename):\n",
    "    item_list = []\n",
    "    for key in item_dict:\n",
    "        if type(key) == unicode:\n",
    "            key_str = key.encode(\"utf8\")\n",
    "        else:\n",
    "            key_str = str(key)\n",
    "        value = item_dict[key]\n",
    "        item_list.append((value, key_str))\n",
    "    item_list.sort()\n",
    "    with open(filename, \"w\") as F:\n",
    "        F.writelines([\"%d\\t%s\\n\" % pair for pair in item_list])"
   ]
  },
  {
   "cell_type": "code",
   "execution_count": 34,
   "metadata": {
    "collapsed": false,
    "deletable": true,
    "editable": true
   },
   "outputs": [],
   "source": [
    "save_dict_to_file(user_dict, directory + \"/other/users\")\n",
    "save_dict_to_file(movie_dict, directory + \"/other/items\")\n",
    "save_dict_to_file(tag_dict, directory + \"/other/tags\")"
   ]
  },
  {
   "cell_type": "code",
   "execution_count": 35,
   "metadata": {
    "collapsed": true,
    "deletable": true,
    "editable": true
   },
   "outputs": [],
   "source": [
    "def save_feature_to_file(feature_dict, filename):\n",
    "    with open(filename, \"w\") as F:\n",
    "        F.writelines([\"%d\\t%s\\n\" % (mid, \"\\t\".join(map(str, feature))) \n",
    "                      for mid, feature in feature_dict.items()])"
   ]
  },
  {
   "cell_type": "code",
   "execution_count": 36,
   "metadata": {
    "collapsed": true,
    "deletable": true,
    "editable": true
   },
   "outputs": [],
   "source": [
    "save_feature_to_file(movie_tags_feature, directory + \"/other/features\")"
   ]
  },
  {
   "cell_type": "code",
   "execution_count": 37,
   "metadata": {
    "collapsed": true,
    "deletable": true,
    "editable": true
   },
   "outputs": [],
   "source": [
    "def save_weekly_screens_to_file(weekly_screens, filename):\n",
    "    with open(filename, \"w\") as F:\n",
    "        S = []\n",
    "        for obj in weekly_screens:\n",
    "            begin = obj[\"begin\"]\n",
    "            end = obj[\"end\"]\n",
    "            screens = obj[\"screens\"]\n",
    "            screens = sorted([(movie_dict.get(mid, 0), count) for mid, count in screens.items()], \n",
    "                             key = lambda x: x[1], reverse = True)\n",
    "            S.append(\"%d\\t%d\\t%s\\n\" % (get_week_num(begin), len(screens), \"\\t\".join([\"%d\\t%d\" % (mid, count) for mid, count in screens])))\n",
    "        F.writelines(S)"
   ]
  },
  {
   "cell_type": "code",
   "execution_count": 38,
   "metadata": {
    "collapsed": true,
    "deletable": true,
    "editable": true
   },
   "outputs": [],
   "source": [
    "save_weekly_screens_to_file(weekly_screens, directory + \"/other/screens\")"
   ]
  },
  {
   "cell_type": "markdown",
   "metadata": {
    "deletable": true,
    "editable": true
   },
   "source": [
    "## 9. 取得序列信息并存储\n",
    "\n",
    "按照 label 所在的 week_num 分割\n",
    "\n",
    "取之前 16 周的观影记录，用户id，周序号，当周观影数量，当周观影mid 存为 tfrecord 文件\n",
    "\n",
    "文件名为 data-\\$\\{week\\_num\\}-\\$\\{num\\}.tfrecord\n",
    "\n",
    "字段： \n",
    "\n",
    "uid   []  \n",
    "num\\_weeks  []  \n",
    "weeks  [17]  \n",
    "num\\_movies [17]  \n",
    "movies [17,13]  \n"
   ]
  },
  {
   "cell_type": "code",
   "execution_count": 39,
   "metadata": {
    "collapsed": true,
    "deletable": true,
    "editable": true
   },
   "outputs": [],
   "source": [
    "def _int64_feature(value):\n",
    "    return tf.train.Feature(int64_list=tf.train.Int64List(value=value))\n",
    "\n",
    "def _item_feature(item):\n",
    "    return _int64_feature([item])\n",
    "\n",
    "def _list1d_feature(list1d):\n",
    "    return _int64_feature(list1d)\n",
    "\n",
    "def _list2d_feature(list2d):\n",
    "    list1d = []\n",
    "    for l in list2d:\n",
    "        list1d.extend(l)\n",
    "    return _list1d_feature(list1d)"
   ]
  },
  {
   "cell_type": "code",
   "execution_count": 40,
   "metadata": {
    "collapsed": true,
    "deletable": true,
    "editable": true
   },
   "outputs": [],
   "source": [
    "max_week_span = 16 # including this week\n",
    "max_num_per_week = max_num_per_week # 13"
   ]
  },
  {
   "cell_type": "code",
   "execution_count": 41,
   "metadata": {
    "collapsed": true,
    "deletable": true,
    "editable": true
   },
   "outputs": [],
   "source": [
    "first_week_by_uid = {}\n",
    "for uid in new_rnn_data:\n",
    "    first_week_by_uid[uid] = min(new_rnn_data[uid].keys())"
   ]
  },
  {
   "cell_type": "code",
   "execution_count": 46,
   "metadata": {
    "collapsed": true,
    "deletable": true,
    "editable": true
   },
   "outputs": [],
   "source": [
    "import random\n",
    "import math\n",
    "\n",
    "def hashint(k, m=64):\n",
    "    s = k * 0.5 * (math.sqrt(5) - 1)\n",
    "    x = s - int(s)\n",
    "    h = int(m * m * x) % m\n",
    "    return h\n",
    "\n",
    "def output_tfrecord(tuples, week_num, num_shards=64):\n",
    "    random.shuffle(tuples)\n",
    "    strings_list = [[] for i in xrange(num_shards)]\n",
    "    for uid,string in tuples:\n",
    "        s = hashint(uid, num_shards)\n",
    "        strings_list[s].append(string)\n",
    "    for n in xrange(num_shards):\n",
    "        file_name = \"data-%02d-%02d.tfrecord\" % (week_num, n)\n",
    "        file_path = directory + \"/tfrecord/\" + file_name\n",
    "        if len(strings_list[n]) > 0:\n",
    "            with tf.python_io.TFRecordWriter(file_path) as writer:\n",
    "                for s in strings_list[n]:\n",
    "                    writer.write(s)\n",
    "    print \"write complete\""
   ]
  },
  {
   "cell_type": "code",
   "execution_count": 47,
   "metadata": {
    "collapsed": false,
    "deletable": true,
    "editable": true,
    "scrolled": true
   },
   "outputs": [
    {
     "name": "stdout",
     "output_type": "stream",
     "text": [
      "week 0 has 0 examples, writing...\n",
      "write complete\n",
      "week 1 has 30971 examples, writing...\n",
      "write complete\n",
      "week 2 has 28921 examples, writing...\n",
      "write complete\n",
      "week 3 has 32975 examples, writing...\n",
      "write complete\n",
      "week 4 has 19546 examples, writing...\n",
      "write complete\n",
      "week 5 has 89478 examples, writing...\n",
      "write complete\n",
      "week 6 has 59120 examples, writing...\n",
      "write complete\n",
      "week 7 has 31914 examples, writing...\n",
      "write complete\n",
      "week 8 has 36767 examples, writing...\n",
      "write complete\n",
      "week 9 has 48816 examples, writing...\n",
      "write complete\n",
      "week 10 has 38647 examples, writing...\n",
      "write complete\n",
      "week 11 has 25098 examples, writing...\n",
      "write complete\n",
      "week 12 has 31903 examples, writing...\n",
      "write complete\n",
      "week 13 has 27087 examples, writing...\n",
      "write complete\n",
      "week 14 has 23774 examples, writing...\n",
      "write complete\n",
      "week 15 has 22772 examples, writing...\n",
      "write complete\n",
      "week 16 has 27924 examples, writing...\n",
      "write complete\n",
      "week 17 has 38344 examples, writing...\n",
      "write complete\n",
      "week 18 has 23992 examples, writing...\n",
      "write complete\n",
      "week 19 has 22537 examples, writing...\n",
      "write complete\n",
      "week 20 has 18709 examples, writing...\n",
      "write complete\n",
      "week 21 has 28588 examples, writing...\n",
      "write complete\n",
      "week 22 has 44498 examples, writing...\n",
      "write complete\n",
      "week 23 has 18653 examples, writing...\n",
      "write complete\n",
      "week 24 has 34443 examples, writing...\n",
      "write complete\n",
      "week 25 has 31495 examples, writing...\n",
      "write complete\n",
      "week 26 has 35982 examples, writing...\n",
      "write complete\n",
      "week 27 has 28115 examples, writing...\n",
      "write complete\n",
      "week 28 has 32850 examples, writing...\n",
      "write complete\n",
      "week 29 has 26639 examples, writing...\n",
      "write complete\n",
      "week 30 has 33412 examples, writing...\n",
      "write complete\n",
      "week 31 has 35089 examples, writing...\n",
      "write complete\n",
      "week 32 has 27135 examples, writing...\n",
      "write complete\n",
      "week 33 has 34892 examples, writing...\n",
      "write complete\n",
      "week 34 has 26482 examples, writing...\n",
      "write complete\n",
      "week 35 has 19096 examples, writing...\n",
      "write complete\n",
      "week 36 has 29010 examples, writing...\n",
      "write complete\n",
      "week 37 has 17617 examples, writing...\n",
      "write complete\n",
      "week 38 has 35667 examples, writing...\n",
      "write complete\n",
      "week 39 has 46746 examples, writing...\n",
      "write complete\n",
      "week 40 has 27596 examples, writing...\n",
      "write complete\n",
      "week 41 has 25708 examples, writing...\n",
      "write complete\n",
      "week 42 has 22856 examples, writing...\n",
      "write complete\n",
      "week 43 has 29297 examples, writing...\n",
      "write complete\n",
      "week 44 has 21667 examples, writing...\n",
      "write complete\n",
      "week 45 has 22239 examples, writing...\n",
      "write complete\n",
      "week 46 has 29788 examples, writing...\n",
      "write complete\n",
      "week 47 has 29716 examples, writing...\n",
      "write complete\n",
      "week 48 has 24899 examples, writing...\n",
      "write complete\n",
      "week 49 has 30207 examples, writing...\n",
      "write complete\n",
      "week 50 has 29871 examples, writing...\n",
      "write complete\n",
      "week 51 has 24242 examples, writing...\n",
      "write complete\n",
      "week 52 has 11391 examples, writing...\n",
      "write complete\n"
     ]
    }
   ],
   "source": [
    "import tensorflow as tf\n",
    "for week_num in xrange(53):\n",
    "    weekly_data = []\n",
    "    for uid in new_rnn_data:\n",
    "        udata = new_rnn_data[uid]\n",
    "        if week_num in udata:\n",
    "            # generate example\n",
    "            start_week = first_week_by_uid[uid]\n",
    "            if start_week < week_num - max_week_span:\n",
    "                start_week = week_num - max_week_span\n",
    "            num_weeks = week_num - start_week # max(num_weeks) = max_week_span\n",
    "            weeks = [0]*max_week_span\n",
    "            num_movies = [0]*max_week_span\n",
    "            movies = [[0]*max_num_per_week for i in xrange(max_week_span)]\n",
    "            for w in xrange(start_week, week_num):\n",
    "                i = w - start_week\n",
    "                weeks[i] = w\n",
    "                if w in udata:\n",
    "                    num_movies[i] = len(udata[w])\n",
    "                    for j in xrange(len(udata[w])):\n",
    "                        movies[i][j] = udata[w][j]\n",
    "            labels = udata[week_num]\n",
    "            label_week = week_num\n",
    "            example = tf.train.Example(features=tf.train.Features(feature={\n",
    "                    'labels': _list1d_feature(labels),\n",
    "                    'uid': _item_feature(uid),\n",
    "                    'num_weeks': _item_feature(num_weeks),\n",
    "                    'label_week': _item_feature(label_week),\n",
    "                    'weeks': _list1d_feature(weeks),\n",
    "                    'num_movies': _list1d_feature(num_movies),\n",
    "                    'movies': _list2d_feature(movies)}))\n",
    "            weekly_data.append((uid,example.SerializeToString()))\n",
    "    print \"week\", week_num, \"has\", len(weekly_data), \"examples, writing...\"\n",
    "    output_tfrecord(weekly_data, week_num)\n",
    "    "
   ]
  },
  {
   "cell_type": "code",
   "execution_count": null,
   "metadata": {
    "collapsed": true,
    "deletable": true,
    "editable": true
   },
   "outputs": [],
   "source": []
  },
  {
   "cell_type": "code",
   "execution_count": null,
   "metadata": {
    "collapsed": true,
    "deletable": true,
    "editable": true
   },
   "outputs": [],
   "source": []
  }
 ],
 "metadata": {
  "kernelspec": {
   "display_name": "Python 2",
   "language": "python",
   "name": "python2"
  },
  "language_info": {
   "codemirror_mode": {
    "name": "ipython",
    "version": 2
   },
   "file_extension": ".py",
   "mimetype": "text/x-python",
   "name": "python",
   "nbconvert_exporter": "python",
   "pygments_lexer": "ipython2",
   "version": "2.7.13"
  }
 },
 "nbformat": 4,
 "nbformat_minor": 2
}
